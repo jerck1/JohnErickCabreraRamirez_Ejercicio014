{
 "cells": [
  {
   "cell_type": "code",
   "execution_count": 1,
   "metadata": {},
   "outputs": [
    {
     "name": "stdout",
     "output_type": "stream",
     "text": [
      "'predict_test(2).ipynb'   score.py   test   train\r\n"
     ]
    }
   ],
   "source": [
    "!(ls)"
   ]
  },
  {
   "cell_type": "code",
   "execution_count": 2,
   "metadata": {},
   "outputs": [],
   "source": [
    "import glob\n",
    "import numpy as np\n",
    "import pandas as pd\n",
    "import matplotlib.pyplot as plt\n",
    "import sklearn.metrics\n",
    "from sklearn.preprocessing import StandardScaler\n",
    "from sklearn.model_selection import train_test_split\n",
    "from sklearn.discriminant_analysis import LinearDiscriminantAnalysis"
   ]
  },
  {
   "cell_type": "code",
   "execution_count": 3,
   "metadata": {},
   "outputs": [],
   "source": [
    "files_train=glob.glob(\"./train/*.jpg\")\n",
    "files_test=glob.glob(\"./test/*.jpg\")\n",
    "datos=files_train,files_test\n",
    "#np.shape(files_train)"
   ]
  },
  {
   "cell_type": "code",
   "execution_count": 4,
   "metadata": {},
   "outputs": [],
   "source": [
    "#si e<s hombre es 1, si es mujer es 0\n",
    "y_train=[]\n",
    "for i in range(len(files_train)):\n",
    " #   if(i%2==0):\n",
    "    if(int(files_train[i][8:-4])%2==0) :\n",
    "        y_train=np.append(y_train,1)\n",
    "    else:\n",
    "        y_train=np.append(y_train,0)\n",
    "#print(len(y_train))"
   ]
  },
  {
   "cell_type": "code",
   "execution_count": 5,
   "metadata": {},
   "outputs": [
    {
     "name": "stdout",
     "output_type": "stream",
     "text": [
      "(100, 10000)\n"
     ]
    }
   ],
   "source": [
    "#files_train.sort()\n",
    "images_train=[]\n",
    "for f in files_train:\n",
    "    i1=plt.imread(f)[:,:,0]\n",
    "    i2=plt.imread(f)[:,:,1]\n",
    "    i3=plt.imread(f)[:,:,2]\n",
    "    d1=np.float_(i1.flatten())\n",
    "    d2=np.float_(i2.flatten())\n",
    "    d3=np.float_(i3.flatten())\n",
    "    images_train.append((d1+d2+d3)/3)\n",
    "#print(i[:,1])\n",
    "print(np.shape(images_train))"
   ]
  },
  {
   "cell_type": "code",
   "execution_count": 6,
   "metadata": {},
   "outputs": [
    {
     "name": "stdout",
     "output_type": "stream",
     "text": [
      "[0 0 1 1 0 0 1 0 1 1]\n",
      "10\n"
     ]
    }
   ],
   "source": [
    "n_test=len(files_test)\n",
    "predict_test=np.int_(np.random.random(n_test)/0.5)\n",
    "print(predict_test)\n",
    "print(n_test)"
   ]
  },
  {
   "cell_type": "code",
   "execution_count": 7,
   "metadata": {},
   "outputs": [
    {
     "name": "stdout",
     "output_type": "stream",
     "text": [
      "Alejandro_Lyons.jpg 0\n",
      "Darcy_Quinn.jpg 0\n",
      "Andrea_Echeverry.jpg 1\n",
      "Natalia_Reyes.jpg 1\n",
      "Pirry.jpg 0\n",
      "Vicky_Davila.jpg 0\n",
      "Goyo.jpg 1\n",
      "Yerry_Mina.jpg 0\n",
      "Endry_Cardeno.jpg 1\n",
      "Mario_Montoya.jpg 1\n"
     ]
    }
   ],
   "source": [
    "for f,p in zip(files_test,predict_test):\n",
    "    print(f.split(\"/\")[-1],p)\n",
    "y_test=[1,1,1,0,1,0,0,0,1,0]\n",
    "#zip(files_test,predict_test)"
   ]
  },
  {
   "cell_type": "code",
   "execution_count": null,
   "metadata": {},
   "outputs": [],
   "source": [
    "#cov = np.cov(images_train.T)\n",
    "images_train=np.array(images_train)\n",
    "cov = np.cov(images_train.T)\n",
    "valores, vectores = np.linalg.eig(cov)\n",
    "valores = np.real(valores)\n",
    "vectores = np.real(vectores)\n",
    "ii = np.argsort(-valores)\n",
    "valores = valores[ii]\n",
    "vectores = vectores[:,ii]\n",
    "test_trans = images_train.T @ vectores\n",
    "#np.shape(images_train)\n",
    "#np.shape(vectores)\n",
    "np.shape(test_trans)"
   ]
  },
  {
   "cell_type": "code",
   "execution_count": 127,
   "metadata": {},
   "outputs": [
    {
     "ename": "NameError",
     "evalue": "name 'SVC' is not defined",
     "output_type": "error",
     "traceback": [
      "\u001b[0;31m---------------------------------------------------------------------------\u001b[0m",
      "\u001b[0;31mNameError\u001b[0m                                 Traceback (most recent call last)",
      "\u001b[0;32m<ipython-input-127-33222b3b65cf>\u001b[0m in \u001b[0;36m<module>\u001b[0;34m\u001b[0m\n\u001b[1;32m      1\u001b[0m \u001b[0;32mfor\u001b[0m \u001b[0mi\u001b[0m \u001b[0;32min\u001b[0m \u001b[0mrange\u001b[0m\u001b[0;34m(\u001b[0m\u001b[0;36m1\u001b[0m\u001b[0;34m,\u001b[0m\u001b[0;36m10\u001b[0m\u001b[0;34m)\u001b[0m\u001b[0;34m:\u001b[0m\u001b[0;34m\u001b[0m\u001b[0;34m\u001b[0m\u001b[0m\n\u001b[0;32m----> 2\u001b[0;31m     \u001b[0mclf\u001b[0m \u001b[0;34m=\u001b[0m \u001b[0mSVC\u001b[0m\u001b[0;34m(\u001b[0m\u001b[0mC\u001b[0m\u001b[0;34m=\u001b[0m\u001b[0mi\u001b[0m\u001b[0;34m,\u001b[0m\u001b[0mkernel\u001b[0m\u001b[0;34m=\u001b[0m\u001b[0;34m'linear'\u001b[0m\u001b[0;34m,\u001b[0m\u001b[0mgamma\u001b[0m\u001b[0;34m=\u001b[0m\u001b[0;34m'auto'\u001b[0m\u001b[0;34m)\u001b[0m\u001b[0;34m\u001b[0m\u001b[0;34m\u001b[0m\u001b[0m\n\u001b[0m\u001b[1;32m      3\u001b[0m \u001b[0;31m#print(clf.fit(data['x_train'], data['y_train']))\u001b[0m\u001b[0;34m\u001b[0m\u001b[0;34m\u001b[0m\u001b[0;34m\u001b[0m\u001b[0m\n\u001b[1;32m      4\u001b[0m     \u001b[0mprint\u001b[0m\u001b[0;34m(\u001b[0m\u001b[0mclf\u001b[0m\u001b[0;34m)\u001b[0m\u001b[0;34m\u001b[0m\u001b[0;34m\u001b[0m\u001b[0m\n\u001b[1;32m      5\u001b[0m     \u001b[0mclf\u001b[0m\u001b[0;34m.\u001b[0m\u001b[0mfit\u001b[0m\u001b[0;34m(\u001b[0m\u001b[0mimages_train\u001b[0m\u001b[0;34m,\u001b[0m\u001b[0my_train\u001b[0m\u001b[0;34m)\u001b[0m\u001b[0;34m\u001b[0m\u001b[0;34m\u001b[0m\u001b[0m\n",
      "\u001b[0;31mNameError\u001b[0m: name 'SVC' is not defined"
     ]
    }
   ],
   "source": [
    "for i in range(1,10):\n",
    "    clf = SVC(C=i,kernel='linear',gamma='auto')\n",
    "#print(clf.fit(data['x_train'], data['y_train']))\n",
    "    print(clf)\n",
    "    clf.fit(images_train,y_train)\n",
    "    predicted=clf.predict(images_train)\n",
    "    print(predicted)\n",
    "    #if(predicted<)"
   ]
  },
  {
   "cell_type": "code",
   "execution_count": 97,
   "metadata": {},
   "outputs": [
    {
     "ename": "NameError",
     "evalue": "name 'SVC' is not defined",
     "output_type": "error",
     "traceback": [
      "\u001b[0;31m---------------------------------------------------------------------------\u001b[0m",
      "\u001b[0;31mNameError\u001b[0m                                 Traceback (most recent call last)",
      "\u001b[0;32m<ipython-input-97-5f7f1436fd46>\u001b[0m in \u001b[0;36m<module>\u001b[0;34m\u001b[0m\n\u001b[0;32m----> 1\u001b[0;31m \u001b[0mclf\u001b[0m \u001b[0;34m=\u001b[0m \u001b[0mSVC\u001b[0m\u001b[0;34m(\u001b[0m\u001b[0mC\u001b[0m\u001b[0;34m=\u001b[0m\u001b[0;36m10000000000\u001b[0m\u001b[0;34m,\u001b[0m\u001b[0mkernel\u001b[0m\u001b[0;34m=\u001b[0m\u001b[0;34m'linear'\u001b[0m\u001b[0;34m,\u001b[0m\u001b[0mgamma\u001b[0m\u001b[0;34m=\u001b[0m\u001b[0;34m'auto'\u001b[0m\u001b[0;34m)\u001b[0m\u001b[0;34m\u001b[0m\u001b[0;34m\u001b[0m\u001b[0m\n\u001b[0m\u001b[1;32m      2\u001b[0m \u001b[0;31m#print(clf.fit(data['x_train'], data['y_train']))\u001b[0m\u001b[0;34m\u001b[0m\u001b[0;34m\u001b[0m\u001b[0;34m\u001b[0m\u001b[0m\n\u001b[1;32m      3\u001b[0m \u001b[0mprint\u001b[0m\u001b[0;34m(\u001b[0m\u001b[0mclf\u001b[0m\u001b[0;34m)\u001b[0m\u001b[0;34m\u001b[0m\u001b[0;34m\u001b[0m\u001b[0m\n\u001b[1;32m      4\u001b[0m \u001b[0mclf\u001b[0m\u001b[0;34m.\u001b[0m\u001b[0mfit\u001b[0m\u001b[0;34m(\u001b[0m\u001b[0mimages_train\u001b[0m\u001b[0;34m,\u001b[0m \u001b[0my_train\u001b[0m\u001b[0;34m)\u001b[0m\u001b[0;34m\u001b[0m\u001b[0;34m\u001b[0m\u001b[0m\n\u001b[1;32m      5\u001b[0m \u001b[0mpredicted\u001b[0m\u001b[0;34m=\u001b[0m\u001b[0mclf\u001b[0m\u001b[0;34m.\u001b[0m\u001b[0mpredict\u001b[0m\u001b[0;34m(\u001b[0m\u001b[0mimages_train\u001b[0m\u001b[0;34m)\u001b[0m\u001b[0;34m\u001b[0m\u001b[0;34m\u001b[0m\u001b[0m\n",
      "\u001b[0;31mNameError\u001b[0m: name 'SVC' is not defined"
     ]
    }
   ],
   "source": [
    "clf = SVC(C=10000000000,kernel='linear',gamma='auto')\n",
    "#print(clf.fit(data['x_train'], data['y_train']))\n",
    "print(clf)\n",
    "clf.fit(images_train, y_train)\n",
    "predicted=clf.predict(images_train)"
   ]
  },
  {
   "cell_type": "code",
   "execution_count": 21,
   "metadata": {},
   "outputs": [],
   "source": [
    "def precision_recall(data, model_name='base'):\n",
    "    linear = LinearDiscriminantAnalysis()\n",
    "    linear.fit(data['x_train_transform_'+model_name], data['y_train'])\n",
    "    proba_test  = linear.predict_proba(data['x_test_transform_'+model_name])\n",
    "    prec, rec, th = sklearn.metrics.precision_recall_curve(data['y_test'], proba_test[:,1], pos_label=1)\n",
    "    data['precision_'+model_name] = prec[:-1]\n",
    "    data['recall_'+model_name] = rec[:-1]\n",
    "    data['threshold_'+model_name] = th.copy()\n",
    "    data['F1_'+model_name] = 2.0*prec[:-1]*rec[:-1]/(prec[:-1]+rec[:-1] +1E-10)\n",
    "    #ii = np.isnan(data['F1_'+model_name])\n",
    "    #data['F1_'+model_name][ii] = 0.0\n",
    "    return data"
   ]
  },
  {
   "cell_type": "code",
   "execution_count": 22,
   "metadata": {},
   "outputs": [],
   "source": [
    "def plot_precision_recall(data, model_name='base'):\n",
    "    ii = np.argmax(data['F1_'+model_name])\n",
    "    plt.plot(data['recall_'+model_name], data['precision_'+model_name], label=model_name)\n",
    "    plt.scatter(data['recall_'+model_name][ii], data['precision_'+model_name][ii], color='red', s=50.0)\n"
   ]
  },
  {
   "cell_type": "code",
   "execution_count": 23,
   "metadata": {},
   "outputs": [],
   "source": [
    "def plot_f1_threshold(data, model_name='base'):\n",
    "    ii = np.argmax(data['F1_'+model_name])\n",
    "    plt.plot(data['threshold_'+model_name], data['F1_'+model_name], label=model_name)\n",
    "    plt.scatter(data['threshold_'+model_name][ii], data['F1_'+model_name][ii], color='red', s=50.0)\n",
    "\n"
   ]
  },
  {
   "cell_type": "code",
   "execution_count": null,
   "metadata": {},
   "outputs": [],
   "source": []
  }
 ],
 "metadata": {
  "kernelspec": {
   "display_name": "Python 3",
   "language": "python",
   "name": "python3"
  },
  "language_info": {
   "codemirror_mode": {
    "name": "ipython",
    "version": 3
   },
   "file_extension": ".py",
   "mimetype": "text/x-python",
   "name": "python",
   "nbconvert_exporter": "python",
   "pygments_lexer": "ipython3",
   "version": "3.7.4"
  }
 },
 "nbformat": 4,
 "nbformat_minor": 4
}
